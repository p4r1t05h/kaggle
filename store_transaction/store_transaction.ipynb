{
 "cells": [
  {
   "cell_type": "code",
   "execution_count": 43,
   "metadata": {},
   "outputs": [],
   "source": [
    "import pandas as pd\n",
    "import numpy as np\n",
    "from sklearn.model_selection import train_test_split"
   ]
  },
  {
   "cell_type": "code",
   "execution_count": 8,
   "metadata": {},
   "outputs": [],
   "source": [
    "ideal=pd.read_csv('Hackathon_Ideal_Data.csv')\n",
    "working=pd.read_csv('Hackathon_Working_Data.csv')\n",
    "valid=pd.read_csv('Hackathon_Validation_Data.csv')"
   ]
  },
  {
   "cell_type": "code",
   "execution_count": 4,
   "metadata": {},
   "outputs": [
    {
     "data": {
      "text/html": [
       "<div>\n",
       "<style scoped>\n",
       "    .dataframe tbody tr th:only-of-type {\n",
       "        vertical-align: middle;\n",
       "    }\n",
       "\n",
       "    .dataframe tbody tr th {\n",
       "        vertical-align: top;\n",
       "    }\n",
       "\n",
       "    .dataframe thead th {\n",
       "        text-align: right;\n",
       "    }\n",
       "</style>\n",
       "<table border=\"1\" class=\"dataframe\">\n",
       "  <thead>\n",
       "    <tr style=\"text-align: right;\">\n",
       "      <th></th>\n",
       "      <th>MONTH</th>\n",
       "      <th>STORECODE</th>\n",
       "      <th>QTY</th>\n",
       "      <th>VALUE</th>\n",
       "      <th>GRP</th>\n",
       "      <th>SGRP</th>\n",
       "      <th>SSGRP</th>\n",
       "      <th>CMP</th>\n",
       "      <th>MBRD</th>\n",
       "      <th>BRD</th>\n",
       "    </tr>\n",
       "  </thead>\n",
       "  <tbody>\n",
       "    <tr>\n",
       "      <th>0</th>\n",
       "      <td>M1</td>\n",
       "      <td>P1</td>\n",
       "      <td>25</td>\n",
       "      <td>83</td>\n",
       "      <td>HAIR CONDITIONERS</td>\n",
       "      <td>HAIR CONDITIONERS</td>\n",
       "      <td>HAIR CONDITIONERS</td>\n",
       "      <td>HINDUSTAN UNILEVER LIMITED</td>\n",
       "      <td>DOVE</td>\n",
       "      <td>DOVE HAIR FALL RESCUE</td>\n",
       "    </tr>\n",
       "    <tr>\n",
       "      <th>1</th>\n",
       "      <td>M1</td>\n",
       "      <td>P1</td>\n",
       "      <td>6</td>\n",
       "      <td>22</td>\n",
       "      <td>HAIR CONDITIONERS</td>\n",
       "      <td>HAIR CONDITIONERS</td>\n",
       "      <td>HAIR CONDITIONERS</td>\n",
       "      <td>HINDUSTAN UNILEVER LIMITED</td>\n",
       "      <td>DOVE</td>\n",
       "      <td>DOVE INTENSE REPAIR</td>\n",
       "    </tr>\n",
       "    <tr>\n",
       "      <th>2</th>\n",
       "      <td>M1</td>\n",
       "      <td>P1</td>\n",
       "      <td>4</td>\n",
       "      <td>15</td>\n",
       "      <td>HAIR CONDITIONERS</td>\n",
       "      <td>HAIR CONDITIONERS</td>\n",
       "      <td>HAIR CONDITIONERS</td>\n",
       "      <td>HINDUSTAN UNILEVER LIMITED</td>\n",
       "      <td>DOVE</td>\n",
       "      <td>DOVE OXYGEN MOISTURE</td>\n",
       "    </tr>\n",
       "    <tr>\n",
       "      <th>3</th>\n",
       "      <td>M1</td>\n",
       "      <td>P1</td>\n",
       "      <td>15</td>\n",
       "      <td>60</td>\n",
       "      <td>HAIR CONDITIONERS</td>\n",
       "      <td>HAIR CONDITIONERS</td>\n",
       "      <td>HAIR CONDITIONERS</td>\n",
       "      <td>L'OREAL INDIA</td>\n",
       "      <td>GARNIER</td>\n",
       "      <td>FRUCTIS</td>\n",
       "    </tr>\n",
       "    <tr>\n",
       "      <th>4</th>\n",
       "      <td>M1</td>\n",
       "      <td>P2</td>\n",
       "      <td>0</td>\n",
       "      <td>0</td>\n",
       "      <td>HAIR CONDITIONERS</td>\n",
       "      <td>HAIR CONDITIONERS</td>\n",
       "      <td>HAIR CONDITIONERS</td>\n",
       "      <td>HINDUSTAN UNILEVER LIMITED</td>\n",
       "      <td>CLINIC PLUS</td>\n",
       "      <td>CLINIC PLUS</td>\n",
       "    </tr>\n",
       "  </tbody>\n",
       "</table>\n",
       "</div>"
      ],
      "text/plain": [
       "  MONTH STORECODE  QTY  VALUE                GRP               SGRP  \\\n",
       "0    M1        P1   25     83  HAIR CONDITIONERS  HAIR CONDITIONERS   \n",
       "1    M1        P1    6     22  HAIR CONDITIONERS  HAIR CONDITIONERS   \n",
       "2    M1        P1    4     15  HAIR CONDITIONERS  HAIR CONDITIONERS   \n",
       "3    M1        P1   15     60  HAIR CONDITIONERS  HAIR CONDITIONERS   \n",
       "4    M1        P2    0      0  HAIR CONDITIONERS  HAIR CONDITIONERS   \n",
       "\n",
       "               SSGRP                         CMP         MBRD  \\\n",
       "0  HAIR CONDITIONERS  HINDUSTAN UNILEVER LIMITED         DOVE   \n",
       "1  HAIR CONDITIONERS  HINDUSTAN UNILEVER LIMITED         DOVE   \n",
       "2  HAIR CONDITIONERS  HINDUSTAN UNILEVER LIMITED         DOVE   \n",
       "3  HAIR CONDITIONERS               L'OREAL INDIA      GARNIER   \n",
       "4  HAIR CONDITIONERS  HINDUSTAN UNILEVER LIMITED  CLINIC PLUS   \n",
       "\n",
       "                     BRD  \n",
       "0  DOVE HAIR FALL RESCUE  \n",
       "1    DOVE INTENSE REPAIR  \n",
       "2   DOVE OXYGEN MOISTURE  \n",
       "3                FRUCTIS  \n",
       "4            CLINIC PLUS  "
      ]
     },
     "execution_count": 4,
     "metadata": {},
     "output_type": "execute_result"
    }
   ],
   "source": [
    "ideal.head()"
   ]
  },
  {
   "cell_type": "code",
   "execution_count": 7,
   "metadata": {},
   "outputs": [
    {
     "name": "stdout",
     "output_type": "stream",
     "text": [
      "(26985, 14)\n"
     ]
    },
    {
     "data": {
      "text/html": [
       "<div>\n",
       "<style scoped>\n",
       "    .dataframe tbody tr th:only-of-type {\n",
       "        vertical-align: middle;\n",
       "    }\n",
       "\n",
       "    .dataframe tbody tr th {\n",
       "        vertical-align: top;\n",
       "    }\n",
       "\n",
       "    .dataframe thead th {\n",
       "        text-align: right;\n",
       "    }\n",
       "</style>\n",
       "<table border=\"1\" class=\"dataframe\">\n",
       "  <thead>\n",
       "    <tr style=\"text-align: right;\">\n",
       "      <th></th>\n",
       "      <th>MONTH</th>\n",
       "      <th>STORECODE</th>\n",
       "      <th>DAY</th>\n",
       "      <th>BILL_ID</th>\n",
       "      <th>BILL_AMT</th>\n",
       "      <th>QTY</th>\n",
       "      <th>VALUE</th>\n",
       "      <th>PRICE</th>\n",
       "      <th>GRP</th>\n",
       "      <th>SGRP</th>\n",
       "      <th>SSGRP</th>\n",
       "      <th>CMP</th>\n",
       "      <th>MBRD</th>\n",
       "      <th>BRD</th>\n",
       "    </tr>\n",
       "  </thead>\n",
       "  <tbody>\n",
       "    <tr>\n",
       "      <th>0</th>\n",
       "      <td>M1</td>\n",
       "      <td>N1</td>\n",
       "      <td>4</td>\n",
       "      <td>T375</td>\n",
       "      <td>225.0</td>\n",
       "      <td>1.0</td>\n",
       "      <td>225.0</td>\n",
       "      <td>225.0</td>\n",
       "      <td>BUTTER MARGR  (4/94)</td>\n",
       "      <td>BUTTER</td>\n",
       "      <td>SALTED</td>\n",
       "      <td>G C M M F</td>\n",
       "      <td>AMUL</td>\n",
       "      <td>AMUL</td>\n",
       "    </tr>\n",
       "    <tr>\n",
       "      <th>1</th>\n",
       "      <td>M1</td>\n",
       "      <td>N1</td>\n",
       "      <td>4</td>\n",
       "      <td>T379</td>\n",
       "      <td>95.0</td>\n",
       "      <td>1.0</td>\n",
       "      <td>95.0</td>\n",
       "      <td>95.0</td>\n",
       "      <td>CONFECTIONERY - ECLAIRS</td>\n",
       "      <td>CONFECTIONERY - ECLAIRS</td>\n",
       "      <td>CONFECTIONERY - ECLAIRS</td>\n",
       "      <td>PARLE PRODS</td>\n",
       "      <td>MELODY</td>\n",
       "      <td>MELODY CHOCOLATY</td>\n",
       "    </tr>\n",
       "    <tr>\n",
       "      <th>2</th>\n",
       "      <td>M1</td>\n",
       "      <td>N1</td>\n",
       "      <td>4</td>\n",
       "      <td>T381</td>\n",
       "      <td>10.0</td>\n",
       "      <td>1.0</td>\n",
       "      <td>10.0</td>\n",
       "      <td>10.0</td>\n",
       "      <td>CHOCOLATE</td>\n",
       "      <td>CHOCOLATE PANNED</td>\n",
       "      <td>CHOCOLATE PANNED</td>\n",
       "      <td>MONDELEZ INTERNATIONAL</td>\n",
       "      <td>CADBURY SHOTS</td>\n",
       "      <td>CADBURY SHOTS</td>\n",
       "    </tr>\n",
       "    <tr>\n",
       "      <th>3</th>\n",
       "      <td>M1</td>\n",
       "      <td>N1</td>\n",
       "      <td>4</td>\n",
       "      <td>T382</td>\n",
       "      <td>108.0</td>\n",
       "      <td>1.0</td>\n",
       "      <td>108.0</td>\n",
       "      <td>108.0</td>\n",
       "      <td>PACKAGED TEA</td>\n",
       "      <td>MAIN PACKS</td>\n",
       "      <td>MAIN PACKS</td>\n",
       "      <td>GUJ TEA PROCESSORS</td>\n",
       "      <td>WAGH BAKRI</td>\n",
       "      <td>WAGH BAKRI INSTANT</td>\n",
       "    </tr>\n",
       "    <tr>\n",
       "      <th>4</th>\n",
       "      <td>M1</td>\n",
       "      <td>N1</td>\n",
       "      <td>4</td>\n",
       "      <td>T384</td>\n",
       "      <td>19.0</td>\n",
       "      <td>1.0</td>\n",
       "      <td>19.0</td>\n",
       "      <td>19.0</td>\n",
       "      <td>ALL IODISED SALT</td>\n",
       "      <td>POWDERED SALT</td>\n",
       "      <td>POWDERED SALT</td>\n",
       "      <td>TATA CHEM</td>\n",
       "      <td>TATA</td>\n",
       "      <td>TATA SALT</td>\n",
       "    </tr>\n",
       "  </tbody>\n",
       "</table>\n",
       "</div>"
      ],
      "text/plain": [
       "  MONTH STORECODE  DAY BILL_ID  BILL_AMT  QTY  VALUE  PRICE  \\\n",
       "0    M1        N1    4    T375     225.0  1.0  225.0  225.0   \n",
       "1    M1        N1    4    T379      95.0  1.0   95.0   95.0   \n",
       "2    M1        N1    4    T381      10.0  1.0   10.0   10.0   \n",
       "3    M1        N1    4    T382     108.0  1.0  108.0  108.0   \n",
       "4    M1        N1    4    T384      19.0  1.0   19.0   19.0   \n",
       "\n",
       "                       GRP                     SGRP                    SSGRP  \\\n",
       "0     BUTTER MARGR  (4/94)                   BUTTER                   SALTED   \n",
       "1  CONFECTIONERY - ECLAIRS  CONFECTIONERY - ECLAIRS  CONFECTIONERY - ECLAIRS   \n",
       "2                CHOCOLATE         CHOCOLATE PANNED         CHOCOLATE PANNED   \n",
       "3             PACKAGED TEA               MAIN PACKS               MAIN PACKS   \n",
       "4         ALL IODISED SALT            POWDERED SALT            POWDERED SALT   \n",
       "\n",
       "                      CMP           MBRD                 BRD  \n",
       "0               G C M M F           AMUL                AMUL  \n",
       "1             PARLE PRODS         MELODY    MELODY CHOCOLATY  \n",
       "2  MONDELEZ INTERNATIONAL  CADBURY SHOTS       CADBURY SHOTS  \n",
       "3      GUJ TEA PROCESSORS     WAGH BAKRI  WAGH BAKRI INSTANT  \n",
       "4               TATA CHEM           TATA           TATA SALT  "
      ]
     },
     "execution_count": 7,
     "metadata": {},
     "output_type": "execute_result"
    }
   ],
   "source": [
    "print(working.shape)\n",
    "working.head()"
   ]
  },
  {
   "cell_type": "code",
   "execution_count": 21,
   "metadata": {},
   "outputs": [
    {
     "data": {
      "text/html": [
       "<div>\n",
       "<style scoped>\n",
       "    .dataframe tbody tr th:only-of-type {\n",
       "        vertical-align: middle;\n",
       "    }\n",
       "\n",
       "    .dataframe tbody tr th {\n",
       "        vertical-align: top;\n",
       "    }\n",
       "\n",
       "    .dataframe thead th {\n",
       "        text-align: right;\n",
       "    }\n",
       "</style>\n",
       "<table border=\"1\" class=\"dataframe\">\n",
       "  <thead>\n",
       "    <tr style=\"text-align: right;\">\n",
       "      <th></th>\n",
       "      <th>MONTH</th>\n",
       "      <th>STORECODE</th>\n",
       "      <th>DAY</th>\n",
       "      <th>BILL_ID</th>\n",
       "      <th>BILL_AMT</th>\n",
       "      <th>QTY</th>\n",
       "      <th>VALUE</th>\n",
       "      <th>PRICE</th>\n",
       "      <th>GRP</th>\n",
       "      <th>SGRP</th>\n",
       "      <th>SSGRP</th>\n",
       "      <th>CMP</th>\n",
       "      <th>MBRD</th>\n",
       "      <th>BRD</th>\n",
       "    </tr>\n",
       "  </thead>\n",
       "  <tbody>\n",
       "    <tr>\n",
       "      <th>64</th>\n",
       "      <td>M1</td>\n",
       "      <td>N1</td>\n",
       "      <td>4</td>\n",
       "      <td>T444</td>\n",
       "      <td>380.0</td>\n",
       "      <td>1.0</td>\n",
       "      <td>44.0</td>\n",
       "      <td>44.0</td>\n",
       "      <td>ALL AIR FRESHNERS(01/03)</td>\n",
       "      <td>SOLIDS</td>\n",
       "      <td>SOLIDS</td>\n",
       "      <td>DABUR</td>\n",
       "      <td>ODONIL</td>\n",
       "      <td>ODONIL</td>\n",
       "    </tr>\n",
       "    <tr>\n",
       "      <th>141</th>\n",
       "      <td>M1</td>\n",
       "      <td>N1</td>\n",
       "      <td>5</td>\n",
       "      <td>T507</td>\n",
       "      <td>45.0</td>\n",
       "      <td>1.0</td>\n",
       "      <td>45.0</td>\n",
       "      <td>45.0</td>\n",
       "      <td>ALL AIR FRESHNERS(01/03)</td>\n",
       "      <td>SOLIDS</td>\n",
       "      <td>SOLIDS</td>\n",
       "      <td>DABUR</td>\n",
       "      <td>ODONIL</td>\n",
       "      <td>ODONIL</td>\n",
       "    </tr>\n",
       "    <tr>\n",
       "      <th>1317</th>\n",
       "      <td>M1</td>\n",
       "      <td>N1</td>\n",
       "      <td>14</td>\n",
       "      <td>T1532</td>\n",
       "      <td>75.0</td>\n",
       "      <td>1.0</td>\n",
       "      <td>75.0</td>\n",
       "      <td>75.0</td>\n",
       "      <td>ALL AIR FRESHNERS(01/03)</td>\n",
       "      <td>GEL</td>\n",
       "      <td>GEL</td>\n",
       "      <td>DABUR</td>\n",
       "      <td>ODONIL</td>\n",
       "      <td>ODONIL</td>\n",
       "    </tr>\n",
       "  </tbody>\n",
       "</table>\n",
       "</div>"
      ],
      "text/plain": [
       "     MONTH STORECODE  DAY BILL_ID  BILL_AMT  QTY  VALUE  PRICE  \\\n",
       "64      M1        N1    4    T444     380.0  1.0   44.0   44.0   \n",
       "141     M1        N1    5    T507      45.0  1.0   45.0   45.0   \n",
       "1317    M1        N1   14   T1532      75.0  1.0   75.0   75.0   \n",
       "\n",
       "                           GRP    SGRP   SSGRP    CMP    MBRD     BRD  \n",
       "64    ALL AIR FRESHNERS(01/03)  SOLIDS  SOLIDS  DABUR  ODONIL  ODONIL  \n",
       "141   ALL AIR FRESHNERS(01/03)  SOLIDS  SOLIDS  DABUR  ODONIL  ODONIL  \n",
       "1317  ALL AIR FRESHNERS(01/03)     GEL     GEL  DABUR  ODONIL  ODONIL  "
      ]
     },
     "execution_count": 21,
     "metadata": {},
     "output_type": "execute_result"
    }
   ],
   "source": [
    "working[(working.STORECODE=='N1') & (working.MONTH=='M1') & (working.GRP=='ALL AIR FRESHNERS(01/03)')]"
   ]
  },
  {
   "cell_type": "code",
   "execution_count": 10,
   "metadata": {},
   "outputs": [
    {
     "name": "stdout",
     "output_type": "stream",
     "text": [
      "(2430, 4)\n"
     ]
    },
    {
     "data": {
      "text/html": [
       "<div>\n",
       "<style scoped>\n",
       "    .dataframe tbody tr th:only-of-type {\n",
       "        vertical-align: middle;\n",
       "    }\n",
       "\n",
       "    .dataframe tbody tr th {\n",
       "        vertical-align: top;\n",
       "    }\n",
       "\n",
       "    .dataframe thead th {\n",
       "        text-align: right;\n",
       "    }\n",
       "</style>\n",
       "<table border=\"1\" class=\"dataframe\">\n",
       "  <thead>\n",
       "    <tr style=\"text-align: right;\">\n",
       "      <th></th>\n",
       "      <th>ID</th>\n",
       "      <th>STORECODE</th>\n",
       "      <th>MONTH</th>\n",
       "      <th>GRP</th>\n",
       "    </tr>\n",
       "  </thead>\n",
       "  <tbody>\n",
       "    <tr>\n",
       "      <th>0</th>\n",
       "      <td>1112535</td>\n",
       "      <td>N1</td>\n",
       "      <td>M1</td>\n",
       "      <td>AFTER SHAVE LOTIONS</td>\n",
       "    </tr>\n",
       "    <tr>\n",
       "      <th>1</th>\n",
       "      <td>1112539</td>\n",
       "      <td>N1</td>\n",
       "      <td>M1</td>\n",
       "      <td>AGARBATTI &amp; DHOOPBATTI</td>\n",
       "    </tr>\n",
       "    <tr>\n",
       "      <th>2</th>\n",
       "      <td>1112543</td>\n",
       "      <td>N1</td>\n",
       "      <td>M1</td>\n",
       "      <td>ALL AIR FRESHNERS(01/03)</td>\n",
       "    </tr>\n",
       "    <tr>\n",
       "      <th>3</th>\n",
       "      <td>1112547</td>\n",
       "      <td>N1</td>\n",
       "      <td>M1</td>\n",
       "      <td>ALL IODISED SALT</td>\n",
       "    </tr>\n",
       "    <tr>\n",
       "      <th>4</th>\n",
       "      <td>1112551</td>\n",
       "      <td>N1</td>\n",
       "      <td>M1</td>\n",
       "      <td>ANTACIDS</td>\n",
       "    </tr>\n",
       "  </tbody>\n",
       "</table>\n",
       "</div>"
      ],
      "text/plain": [
       "        ID STORECODE MONTH                       GRP\n",
       "0  1112535        N1    M1       AFTER SHAVE LOTIONS\n",
       "1  1112539        N1    M1    AGARBATTI & DHOOPBATTI\n",
       "2  1112543        N1    M1  ALL AIR FRESHNERS(01/03)\n",
       "3  1112547        N1    M1          ALL IODISED SALT\n",
       "4  1112551        N1    M1                  ANTACIDS"
      ]
     },
     "execution_count": 10,
     "metadata": {},
     "output_type": "execute_result"
    }
   ],
   "source": [
    "print(valid.shape)\n",
    "valid.head()"
   ]
  },
  {
   "cell_type": "code",
   "execution_count": 12,
   "metadata": {},
   "outputs": [
    {
     "data": {
      "text/plain": [
       "array(['N1', 'N2', 'N3', 'N4', 'N5', 'N6', 'N7', 'N8', 'N9', 'N10'],\n",
       "      dtype=object)"
      ]
     },
     "execution_count": 12,
     "metadata": {},
     "output_type": "execute_result"
    }
   ],
   "source": [
    "valid.STORECODE.unique()"
   ]
  },
  {
   "cell_type": "code",
   "execution_count": 22,
   "metadata": {},
   "outputs": [],
   "source": [
    "# Creating a global function to evaluate missing values in any data frame\n",
    "\n",
    "def missing_values_table(df):\n",
    "        # Total missing values\n",
    "        mis_val = df.isnull().sum()\n",
    "        \n",
    "        # Percentage of missing values\n",
    "        mis_val_percent = 100 * df.isnull().sum() / len(df)\n",
    "        \n",
    "        # Make a table with the results\n",
    "        mis_val_table = pd.concat([mis_val, mis_val_percent], axis=1)\n",
    "        \n",
    "        # Rename the columns\n",
    "        mis_val_table_ren_columns = mis_val_table.rename(\n",
    "        columns = {0 : 'Missing Values', 1 : '% of Total Values'})\n",
    "        \n",
    "        # Sort the table by percentage of missing descending\n",
    "        mis_val_table_ren_columns = mis_val_table_ren_columns[\n",
    "            mis_val_table_ren_columns.iloc[:,1] != 0].sort_values(\n",
    "        '% of Total Values', ascending=False).round(1)\n",
    "        \n",
    "        # Print some summary information\n",
    "        print (\"Your selected dataframe has \" + str(df.shape[1]) + \" columns.\\n\"      \n",
    "            \"There are \" + str(mis_val_table_ren_columns.shape[0]) +\n",
    "              \" columns that have missing values.\")\n",
    "        \n",
    "        # Return the dataframe with missing information\n",
    "        return mis_val_table_ren_columns"
   ]
  },
  {
   "cell_type": "code",
   "execution_count": 23,
   "metadata": {},
   "outputs": [
    {
     "name": "stdout",
     "output_type": "stream",
     "text": [
      "Your selected dataframe has 14 columns.\n",
      "There are 0 columns that have missing values.\n"
     ]
    },
    {
     "data": {
      "text/html": [
       "<div>\n",
       "<style scoped>\n",
       "    .dataframe tbody tr th:only-of-type {\n",
       "        vertical-align: middle;\n",
       "    }\n",
       "\n",
       "    .dataframe tbody tr th {\n",
       "        vertical-align: top;\n",
       "    }\n",
       "\n",
       "    .dataframe thead th {\n",
       "        text-align: right;\n",
       "    }\n",
       "</style>\n",
       "<table border=\"1\" class=\"dataframe\">\n",
       "  <thead>\n",
       "    <tr style=\"text-align: right;\">\n",
       "      <th></th>\n",
       "      <th>Missing Values</th>\n",
       "      <th>% of Total Values</th>\n",
       "    </tr>\n",
       "  </thead>\n",
       "  <tbody>\n",
       "  </tbody>\n",
       "</table>\n",
       "</div>"
      ],
      "text/plain": [
       "Empty DataFrame\n",
       "Columns: [Missing Values, % of Total Values]\n",
       "Index: []"
      ]
     },
     "execution_count": 23,
     "metadata": {},
     "output_type": "execute_result"
    }
   ],
   "source": [
    "missing_values_table(working)"
   ]
  },
  {
   "cell_type": "code",
   "execution_count": 24,
   "metadata": {},
   "outputs": [],
   "source": [
    "y = working['VALUE']\n",
    "x = working.drop(columns = ['VALUE'])"
   ]
  },
  {
   "cell_type": "code",
   "execution_count": 25,
   "metadata": {},
   "outputs": [],
   "source": [
    "corr_matrix = x.corr()\n",
    "iters = range(len(corr_matrix.columns) - 1)\n",
    "drop_cols = []"
   ]
  },
  {
   "cell_type": "code",
   "execution_count": 26,
   "metadata": {},
   "outputs": [],
   "source": [
    "for i in iters:\n",
    "    for j in range(i):\n",
    "        item = corr_matrix.iloc[j:(j+1), (i+1):(i+2)]\n",
    "        col = item.columns\n",
    "        row = item.index\n",
    "        val = abs(item.values)\n",
    "\n",
    "        # If correlation exceeds the threshold\n",
    "        if val >= 0.6:\n",
    "            # Print the correlated features and the correlation value\n",
    "            # print(col.values[0], \"|\", row.values[0], \"|\", round(val[0][0], 2))\n",
    "            drop_cols.append(col.values[0])\n",
    "\n",
    "# Drop one of each pair of correlated columns\n",
    "drops = set(drop_cols)\n",
    "x = x.drop(columns = drops)"
   ]
  },
  {
   "cell_type": "code",
   "execution_count": 28,
   "metadata": {},
   "outputs": [
    {
     "data": {
      "text/html": [
       "<div>\n",
       "<style scoped>\n",
       "    .dataframe tbody tr th:only-of-type {\n",
       "        vertical-align: middle;\n",
       "    }\n",
       "\n",
       "    .dataframe tbody tr th {\n",
       "        vertical-align: top;\n",
       "    }\n",
       "\n",
       "    .dataframe thead th {\n",
       "        text-align: right;\n",
       "    }\n",
       "</style>\n",
       "<table border=\"1\" class=\"dataframe\">\n",
       "  <thead>\n",
       "    <tr style=\"text-align: right;\">\n",
       "      <th></th>\n",
       "      <th>MONTH</th>\n",
       "      <th>STORECODE</th>\n",
       "      <th>DAY</th>\n",
       "      <th>BILL_ID</th>\n",
       "      <th>BILL_AMT</th>\n",
       "      <th>QTY</th>\n",
       "      <th>PRICE</th>\n",
       "      <th>GRP</th>\n",
       "      <th>SGRP</th>\n",
       "      <th>SSGRP</th>\n",
       "      <th>CMP</th>\n",
       "      <th>MBRD</th>\n",
       "      <th>BRD</th>\n",
       "    </tr>\n",
       "  </thead>\n",
       "  <tbody>\n",
       "    <tr>\n",
       "      <th>0</th>\n",
       "      <td>M1</td>\n",
       "      <td>N1</td>\n",
       "      <td>4</td>\n",
       "      <td>T375</td>\n",
       "      <td>225.0</td>\n",
       "      <td>1.0</td>\n",
       "      <td>225.0</td>\n",
       "      <td>BUTTER MARGR  (4/94)</td>\n",
       "      <td>BUTTER</td>\n",
       "      <td>SALTED</td>\n",
       "      <td>G C M M F</td>\n",
       "      <td>AMUL</td>\n",
       "      <td>AMUL</td>\n",
       "    </tr>\n",
       "    <tr>\n",
       "      <th>1</th>\n",
       "      <td>M1</td>\n",
       "      <td>N1</td>\n",
       "      <td>4</td>\n",
       "      <td>T379</td>\n",
       "      <td>95.0</td>\n",
       "      <td>1.0</td>\n",
       "      <td>95.0</td>\n",
       "      <td>CONFECTIONERY - ECLAIRS</td>\n",
       "      <td>CONFECTIONERY - ECLAIRS</td>\n",
       "      <td>CONFECTIONERY - ECLAIRS</td>\n",
       "      <td>PARLE PRODS</td>\n",
       "      <td>MELODY</td>\n",
       "      <td>MELODY CHOCOLATY</td>\n",
       "    </tr>\n",
       "    <tr>\n",
       "      <th>2</th>\n",
       "      <td>M1</td>\n",
       "      <td>N1</td>\n",
       "      <td>4</td>\n",
       "      <td>T381</td>\n",
       "      <td>10.0</td>\n",
       "      <td>1.0</td>\n",
       "      <td>10.0</td>\n",
       "      <td>CHOCOLATE</td>\n",
       "      <td>CHOCOLATE PANNED</td>\n",
       "      <td>CHOCOLATE PANNED</td>\n",
       "      <td>MONDELEZ INTERNATIONAL</td>\n",
       "      <td>CADBURY SHOTS</td>\n",
       "      <td>CADBURY SHOTS</td>\n",
       "    </tr>\n",
       "    <tr>\n",
       "      <th>3</th>\n",
       "      <td>M1</td>\n",
       "      <td>N1</td>\n",
       "      <td>4</td>\n",
       "      <td>T382</td>\n",
       "      <td>108.0</td>\n",
       "      <td>1.0</td>\n",
       "      <td>108.0</td>\n",
       "      <td>PACKAGED TEA</td>\n",
       "      <td>MAIN PACKS</td>\n",
       "      <td>MAIN PACKS</td>\n",
       "      <td>GUJ TEA PROCESSORS</td>\n",
       "      <td>WAGH BAKRI</td>\n",
       "      <td>WAGH BAKRI INSTANT</td>\n",
       "    </tr>\n",
       "    <tr>\n",
       "      <th>4</th>\n",
       "      <td>M1</td>\n",
       "      <td>N1</td>\n",
       "      <td>4</td>\n",
       "      <td>T384</td>\n",
       "      <td>19.0</td>\n",
       "      <td>1.0</td>\n",
       "      <td>19.0</td>\n",
       "      <td>ALL IODISED SALT</td>\n",
       "      <td>POWDERED SALT</td>\n",
       "      <td>POWDERED SALT</td>\n",
       "      <td>TATA CHEM</td>\n",
       "      <td>TATA</td>\n",
       "      <td>TATA SALT</td>\n",
       "    </tr>\n",
       "  </tbody>\n",
       "</table>\n",
       "</div>"
      ],
      "text/plain": [
       "  MONTH STORECODE  DAY BILL_ID  BILL_AMT  QTY  PRICE                      GRP  \\\n",
       "0    M1        N1    4    T375     225.0  1.0  225.0     BUTTER MARGR  (4/94)   \n",
       "1    M1        N1    4    T379      95.0  1.0   95.0  CONFECTIONERY - ECLAIRS   \n",
       "2    M1        N1    4    T381      10.0  1.0   10.0                CHOCOLATE   \n",
       "3    M1        N1    4    T382     108.0  1.0  108.0             PACKAGED TEA   \n",
       "4    M1        N1    4    T384      19.0  1.0   19.0         ALL IODISED SALT   \n",
       "\n",
       "                      SGRP                    SSGRP                     CMP  \\\n",
       "0                   BUTTER                   SALTED               G C M M F   \n",
       "1  CONFECTIONERY - ECLAIRS  CONFECTIONERY - ECLAIRS             PARLE PRODS   \n",
       "2         CHOCOLATE PANNED         CHOCOLATE PANNED  MONDELEZ INTERNATIONAL   \n",
       "3               MAIN PACKS               MAIN PACKS      GUJ TEA PROCESSORS   \n",
       "4            POWDERED SALT            POWDERED SALT               TATA CHEM   \n",
       "\n",
       "            MBRD                 BRD  \n",
       "0           AMUL                AMUL  \n",
       "1         MELODY    MELODY CHOCOLATY  \n",
       "2  CADBURY SHOTS       CADBURY SHOTS  \n",
       "3     WAGH BAKRI  WAGH BAKRI INSTANT  \n",
       "4           TATA           TATA SALT  "
      ]
     },
     "execution_count": 28,
     "metadata": {},
     "output_type": "execute_result"
    }
   ],
   "source": [
    "x.head()"
   ]
  },
  {
   "cell_type": "code",
   "execution_count": 29,
   "metadata": {},
   "outputs": [
    {
     "data": {
      "text/plain": [
       "Index(['ID', 'STORECODE', 'MONTH', 'GRP'], dtype='object')"
      ]
     },
     "execution_count": 29,
     "metadata": {},
     "output_type": "execute_result"
    }
   ],
   "source": [
    "# Keeping Columns only as Valid\n",
    "valid.columns"
   ]
  },
  {
   "cell_type": "code",
   "execution_count": 34,
   "metadata": {},
   "outputs": [],
   "source": [
    "x=x[['STORECODE', 'MONTH', 'GRP']]"
   ]
  },
  {
   "cell_type": "code",
   "execution_count": 35,
   "metadata": {},
   "outputs": [],
   "source": [
    "x=pd.get_dummies(data=x, drop_first=True)"
   ]
  },
  {
   "cell_type": "code",
   "execution_count": 36,
   "metadata": {},
   "outputs": [
    {
     "data": {
      "text/plain": [
       "(26985, 90)"
      ]
     },
     "execution_count": 36,
     "metadata": {},
     "output_type": "execute_result"
    }
   ],
   "source": [
    "x.shape"
   ]
  },
  {
   "cell_type": "code",
   "execution_count": 48,
   "metadata": {},
   "outputs": [],
   "source": [
    "from sklearn import metrics\n",
    "from sklearn.linear_model import LinearRegression as lm\n",
    "from sklearn.tree import DecisionTreeRegressor\n",
    "from sklearn.ensemble import RandomForestRegressor"
   ]
  },
  {
   "cell_type": "code",
   "execution_count": 39,
   "metadata": {},
   "outputs": [],
   "source": [
    "# Split into 80% training and 20% testing set\n",
    "X_train, X_test, y_train, y_test = train_test_split(x, y, test_size = 0.2, random_state = 42)"
   ]
  },
  {
   "cell_type": "code",
   "execution_count": 44,
   "metadata": {},
   "outputs": [
    {
     "name": "stdout",
     "output_type": "stream",
     "text": [
      "RMSE is 108.50960627430354\n"
     ]
    }
   ],
   "source": [
    "model=lm().fit(X_train,y_train)\n",
    "prediction=model.predict(X_test)\n",
    "print('RMSE is', np.sqrt(metrics.mean_squared_error(y_test,prediction)))"
   ]
  },
  {
   "cell_type": "code",
   "execution_count": 46,
   "metadata": {},
   "outputs": [
    {
     "name": "stdout",
     "output_type": "stream",
     "text": [
      "RMSE is 109.7709455153816\n"
     ]
    }
   ],
   "source": [
    "regressor = DecisionTreeRegressor()\n",
    "regressor.fit(X_train, y_train)\n",
    "y_pred = regressor.predict(X_test)\n",
    "print('RMSE is', np.sqrt(metrics.mean_squared_error(y_test,y_pred)))"
   ]
  },
  {
   "cell_type": "code",
   "execution_count": 49,
   "metadata": {},
   "outputs": [
    {
     "name": "stdout",
     "output_type": "stream",
     "text": [
      "RMSE is 109.4400356911357\n"
     ]
    }
   ],
   "source": [
    "regressor = RandomForestRegressor(n_estimators=200, random_state=0)\n",
    "regressor.fit(X_train, y_train)\n",
    "y_pred = regressor.predict(X_test)\n",
    "print('RMSE is', np.sqrt(metrics.mean_squared_error(y_test,y_pred)))"
   ]
  },
  {
   "cell_type": "code",
   "execution_count": null,
   "metadata": {},
   "outputs": [],
   "source": []
  }
 ],
 "metadata": {
  "kernelspec": {
   "display_name": "Python 3",
   "language": "python",
   "name": "python3"
  },
  "language_info": {
   "codemirror_mode": {
    "name": "ipython",
    "version": 3
   },
   "file_extension": ".py",
   "mimetype": "text/x-python",
   "name": "python",
   "nbconvert_exporter": "python",
   "pygments_lexer": "ipython3",
   "version": "3.7.3"
  }
 },
 "nbformat": 4,
 "nbformat_minor": 4
}
